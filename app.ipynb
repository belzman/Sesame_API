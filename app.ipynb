{
 "cells": [
  {
   "cell_type": "code",
   "execution_count": 1,
   "id": "52d79442",
   "metadata": {},
   "outputs": [
    {
     "name": "stdout",
     "output_type": "stream",
     "text": [
      " * Serving Flask app '__main__'\n",
      " * Debug mode: on\n"
     ]
    },
    {
     "name": "stderr",
     "output_type": "stream",
     "text": [
      "WARNING: This is a development server. Do not use it in a production deployment. Use a production WSGI server instead.\n",
      " * Running on http://127.0.0.1:5000\n",
      "Press CTRL+C to quit\n"
     ]
    }
   ],
   "source": [
    "import pandas as pd\n",
    "from flask import Flask, jsonify, render_template, request\n",
    "import threading\n",
    "app = Flask(__name__)\n",
    "# Read the dataset from Excel\n",
    "def read_dataset_from_excel(filename):\n",
    "    try:\n",
    "        dataset = pd.read_excel(filename)\n",
    "        return dataset\n",
    "    except Exception as e:\n",
    "        print(\"Error:\", e)\n",
    "        return None\n",
    "excel_file_path = 'D:/PhD/Data Science/sesame_final_dataset1.xlsx'\n",
    "dataset = read_dataset_from_excel(excel_file_path)\n",
    "# Endpoint to get all data\n",
    "@app.route('/api/data', methods=['GET'])\n",
    "def get_all_data():\n",
    "    if dataset is not None:\n",
    "        return jsonify(dataset.to_dict(orient='records'))\n",
    "    else:\n",
    "        return jsonify({\"error\": \"Failed to read dataset from Excel file.\"}), 500\n",
    "@app.route('/api/data/<symbol>', methods=['GET'])\n",
    "def get_data_by_symbol(symbol):\n",
    "    if dataset is not None:\n",
    "        filtered_data = dataset[dataset['Symbol'] == symbol]\n",
    "        return jsonify(filtered_data.to_dict(orient='records'))\n",
    "    else:\n",
    "        return jsonify({\"error\": \"Failed to read dataset from Excel file.\"}), 500\n",
    "@app.route('/api/data/warehouse/<warehouse>', methods=['GET'])\n",
    "def get_data_by_warehouse(warehouse):\n",
    "    if dataset is not None:\n",
    "        filtered_data = dataset[dataset['Warehouse'] == warehouse]\n",
    "        return jsonify(filtered_data.to_dict(orient='records'))\n",
    "    else:\n",
    "        return jsonify({\"error\": \"Failed to read dataset from Excel file.\"}), 500\n",
    "@app.route('/', methods=['GET'])\n",
    "def render_index():\n",
    "    return render_template('index.html')\n",
    "def run_flask_app():\n",
    "    app.run(debug=True, use_reloader=False)\n",
    "if __name__ == '__main__':\n",
    "    threading.Thread(target=run_flask_app).start()"
   ]
  },
  {
   "cell_type": "code",
   "execution_count": null,
   "id": "1b2cb934",
   "metadata": {},
   "outputs": [],
   "source": []
  }
 ],
 "metadata": {
  "kernelspec": {
   "display_name": "Python 3 (ipykernel)",
   "language": "python",
   "name": "python3"
  },
  "language_info": {
   "codemirror_mode": {
    "name": "ipython",
    "version": 3
   },
   "file_extension": ".py",
   "mimetype": "text/x-python",
   "name": "python",
   "nbconvert_exporter": "python",
   "pygments_lexer": "ipython3",
   "version": "3.11.5"
  }
 },
 "nbformat": 4,
 "nbformat_minor": 5
}
